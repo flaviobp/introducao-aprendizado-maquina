{
 "cells": [
  {
   "cell_type": "markdown",
   "metadata": {},
   "source": [
    "## Fine-tuning de Hiper-parâmetros\n",
    "\n",
    "Todos os classificadores que utilizamos até aqui possuem uma série de hiper-parâmetros que precisam ser ajustados para que possamos obter o máximo desempenho possível de cada um.\n",
    "\n",
    "**Parêntese: o que são hiper-parâmetros afinal? Por que não os chamamos simplesmente de \"parâmetros\"?**\n",
    "\n",
    "Tecnicamente, os parâmetros do modelo são aqueles que são aprendidos *durante* o treinamento, e que determinam como uma determinada observação deve ser classificada. As configurações que são ajustados pelo usuário e que determinam como o treinamento deve ocorrer, são chamados de hiper-parâmetros, para diferenciar.\n",
    "\n",
    "### Estratégias para fine-tuning:\n",
    "\n",
    "1. Tentativa e erro, ajustando hiper-parâmetros manualmente (!)\n",
    "2. Busca sistemática\n",
    "\n",
    "É claro que vamos tratar da segunda opção aqui.\n",
    "\n",
    "O scikit-learn fornece dois mecanismos para busca sistemática:\n",
    "\n",
    "- Grid search\n",
    "- Random search\n",
    "\n",
    "Externamente, os dois funcionam da mesma forma: o usuário define um conjunto ou faixa de valores para cada hiper-parâmetro, o \"searcher\" monta todas as combinações possíveis e treina um classificador para cada combinação.\n",
    "\n",
    "Internamente, o grid search é exaustivo, ou seja, todas as opções são exploradas, enquanto que o random search explora regiões do grid aleatoriamente. Na prática, o random search produz resultados quase tão bons quanto o grid search, mas com muito menos treinamentos, e portanto, em menos tempo.\n",
    "\n"
   ]
  },
  {
   "cell_type": "code",
   "execution_count": 1,
   "metadata": {},
   "outputs": [],
   "source": [
    "import matplotlib.pyplot as plt\n",
    "plt.rcParams['figure.dpi'] = 200\n",
    "plt.rcParams['figure.figsize'] = [15, 15]\n",
    "\n",
    "from sklearn.datasets import make_moons\n",
    "from sklearn.model_selection import train_test_split\n",
    "import numpy as np\n",
    "\n",
    "#define função para criar plots com fronteiras de decisão\n",
    "def plot_decision_boundary(clf, X, y):\n",
    "    x_min, x_max = X[:, 0].min() - .5, X[:, 0].max() + .5\n",
    "    y_min, y_max = X[:, 1].min() - .5, X[:, 1].max() + .5\n",
    "    h = .02\n",
    "    xx, yy = np.meshgrid(np.arange(x_min, x_max, h), np.arange(y_min, y_max, h))\n",
    "    Z = clf.predict(np.c_[xx.ravel(), yy.ravel()])\n",
    "    \n",
    "    Z = Z.reshape(xx.shape)\n",
    "    plt.figure(1, figsize=(4, 3))\n",
    "    plt.pcolormesh(xx, yy, Z, cmap=plt.cm.tab20)\n",
    "\n",
    "    plt.scatter(X[:, 0], X[:, 1], c=y, cmap=plt.cm.tab20b, s=5)\n",
    "    plt.axis('off')\n"
   ]
  },
  {
   "cell_type": "markdown",
   "metadata": {},
   "source": [
    "#### Criação de dados de exemplo utilizando make_moons"
   ]
  },
  {
   "cell_type": "code",
   "execution_count": 2,
   "metadata": {},
   "outputs": [
    {
     "data": {
      "image/png": "[encoded data removed]",
      "text/plain": [
       "<Figure size 432x288 with 1 Axes>"
      ]
     },
     "metadata": {
      "needs_background": "light"
     },
     "output_type": "display_data"
    }
   ],
   "source": [
    "X, y = make_moons(n_samples=1000, random_state=42)\n",
    "plt.scatter(X[:,0], X[:,1], c=y, cmap=plt.cm.tab20b)\n",
    "X_train, X_test, y_train, y_test = train_test_split(X, y, test_size=0.2, stratify=y, random_state=42)"
   ]
  },
  {
   "cell_type": "markdown",
   "metadata": {},
   "source": [
    "### Exemplo de Grid Search com Gradient Boosting"
   ]
  },
  {
   "cell_type": "code",
   "execution_count": 3,
   "metadata": {
    "scrolled": false
   },
   "outputs": [
    {
     "name": "stdout",
     "output_type": "stream",
     "text": [
      "CPU times: user 2.21 s, sys: 57.4 ms, total: 2.27 s\n",
      "Wall time: 56.8 s\n",
      "{'criterion': 'mse', 'learning_rate': 0.1, 'max_depth': 5, 'max_features': 1, 'n_estimators': 20, 'subsample': 1.0}\n",
      "1.0\n"
     ]
    }
   ],
   "source": [
    "from sklearn.ensemble import GradientBoostingClassifier\n",
    "from sklearn.model_selection import GridSearchCV\n",
    "import scipy.stats as stats\n",
    "\n",
    "clf = GradientBoostingClassifier()\n",
    "\n",
    "param_grid = {  'learning_rate': [0.01, 0.1, 0.5],\n",
    "                'n_estimators': [5, 20, 100],\n",
    "                'subsample': [0.6, 1.0], #stats.uniform(0.6, 0.4),\n",
    "                'criterion': ['friedman_mse', 'mse', 'mae'],\n",
    "                'max_depth': [1, 3, 5, 7],\n",
    "                'max_features': [1, 2]}\n",
    "\n",
    "grid = GridSearchCV(clf, param_grid=param_grid, cv=5, n_jobs=4, iid=False)\n",
    "%time grid.fit(X_train, y_train)\n",
    "\n",
    "print(grid.best_params_)\n",
    "print(grid.best_estimator_.score(X_test, y_test))"
   ]
  },
  {
   "cell_type": "markdown",
   "metadata": {},
   "source": [
    "### Exemplo de Random Search com Gradient Boosting"
   ]
  },
  {
   "cell_type": "code",
   "execution_count": 4,
   "metadata": {},
   "outputs": [
    {
     "name": "stdout",
     "output_type": "stream",
     "text": [
      "CPU times: user 256 ms, sys: 20.3 ms, total: 276 ms\n",
      "Wall time: 3.58 s\n",
      "{'criterion': 'mae', 'learning_rate': 0.5, 'max_depth': 7, 'max_features': 2, 'n_estimators': 20, 'subsample': 0.654092116796517}\n",
      "1.0\n"
     ]
    }
   ],
   "source": [
    "from sklearn.ensemble import GradientBoostingClassifier\n",
    "from sklearn.model_selection import RandomizedSearchCV\n",
    "import scipy.stats as stats\n",
    "\n",
    "n_iter = 20\n",
    "\n",
    "clf = GradientBoostingClassifier()\n",
    "\n",
    "param_dist = {  'learning_rate': [0.01, 0.1, 0.5],\n",
    "                'n_estimators': [5, 20, 100],\n",
    "                'subsample': stats.uniform(0.6, 0.4),\n",
    "                'criterion': ['friedman_mse', 'mse', 'mae'],\n",
    "                'max_depth': [1, 3, 5, 7],\n",
    "                'max_features': [1, 2]}\n",
    "\n",
    "rand = RandomizedSearchCV(clf, param_distributions=param_dist, cv=5, n_jobs=4, n_iter=n_iter)\n",
    "%time rand.fit(X_train, y_train)\n",
    "\n",
    "print(rand.best_params_)\n",
    "print(rand.best_estimator_.score(X_test, y_test))"
   ]
  },
  {
   "cell_type": "code",
   "execution_count": 5,
   "metadata": {},
   "outputs": [
    {
     "data": {
      "text/plain": [
       "{'mean_fit_time': array([0.03043919, 0.47976837, 0.07396002, 0.00602665, 0.00858793,\n",
       "        1.0233799 , 0.04839878, 0.07633839, 0.12678823, 0.00575099,\n",
       "        0.00585241, 0.00467987, 0.64135375, 0.10993562, 0.00949168,\n",
       "        0.02272267, 0.72133389, 0.00699325, 0.02368207, 0.14922013]),\n",
       " 'std_fit_time': array([4.21491713e-03, 1.88955754e-02, 2.21233677e-03, 1.41398066e-04,\n",
       "        8.13871182e-04, 2.44799395e-01, 4.08659772e-03, 8.53613051e-03,\n",
       "        7.85671910e-03, 1.99106186e-04, 1.30654895e-04, 1.10570137e-04,\n",
       "        2.21534999e-01, 5.37753417e-02, 2.40303112e-03, 3.51652379e-03,\n",
       "        2.06790105e-01, 1.22259823e-03, 1.84373538e-04, 2.52406357e-02]),\n",
       " 'mean_score_time': array([0.00116534, 0.0014627 , 0.00081758, 0.00066733, 0.00068288,\n",
       "        0.00169573, 0.00074501, 0.00081134, 0.00095415, 0.00066175,\n",
       "        0.00064702, 0.00063338, 0.0016418 , 0.00197825, 0.00080214,\n",
       "        0.00084133, 0.00134449, 0.00053296, 0.00064735, 0.00067148]),\n",
       " 'std_score_time': array([7.18562942e-04, 1.93703497e-04, 8.68227895e-05, 5.79872020e-05,\n",
       "        3.72022838e-05, 9.57879807e-05, 1.06715517e-04, 4.99362577e-05,\n",
       "        7.58790117e-05, 3.70366515e-05, 3.31284825e-05, 2.89666701e-05,\n",
       "        3.76695301e-04, 2.18792016e-03, 2.81417155e-05, 3.60948406e-05,\n",
       "        1.94556421e-04, 8.79335557e-05, 2.91321358e-05, 1.00598922e-04]),\n",
       " 'param_criterion': masked_array(data=['mae', 'mae', 'friedman_mse', 'friedman_mse', 'mse',\n",
       "                    'mae', 'mae', 'friedman_mse', 'friedman_mse', 'mse',\n",
       "                    'mse', 'friedman_mse', 'mae', 'mse', 'friedman_mse',\n",
       "                    'mse', 'mae', 'mae', 'mae', 'mae'],\n",
       "              mask=[False, False, False, False, False, False, False, False,\n",
       "                    False, False, False, False, False, False, False, False,\n",
       "                    False, False, False, False],\n",
       "        fill_value='?',\n",
       "             dtype=object),\n",
       " 'param_learning_rate': masked_array(data=[0.1, 0.1, 0.5, 0.1, 0.5, 0.01, 0.5, 0.5, 0.01, 0.5,\n",
       "                    0.1, 0.1, 0.1, 0.01, 0.1, 0.1, 0.1, 0.5, 0.01, 0.1],\n",
       "              mask=[False, False, False, False, False, False, False, False,\n",
       "                    False, False, False, False, False, False, False, False,\n",
       "                    False, False, False, False],\n",
       "        fill_value='?',\n",
       "             dtype=object),\n",
       " 'param_max_depth': masked_array(data=[3, 5, 1, 3, 7, 7, 1, 1, 7, 3, 3, 1, 7, 3, 3, 1, 7, 1,\n",
       "                    3, 5],\n",
       "              mask=[False, False, False, False, False, False, False, False,\n",
       "                    False, False, False, False, False, False, False, False,\n",
       "                    False, False, False, False],\n",
       "        fill_value='?',\n",
       "             dtype=object),\n",
       " 'param_max_features': masked_array(data=[2, 1, 1, 2, 1, 1, 1, 1, 2, 1, 1, 1, 1, 1, 1, 1, 1, 1,\n",
       "                    2, 2],\n",
       "              mask=[False, False, False, False, False, False, False, False,\n",
       "                    False, False, False, False, False, False, False, False,\n",
       "                    False, False, False, False],\n",
       "        fill_value='?',\n",
       "             dtype=object),\n",
       " 'param_n_estimators': masked_array(data=[5, 100, 100, 5, 5, 100, 20, 100, 100, 5, 5, 5, 100,\n",
       "                    100, 5, 20, 100, 5, 5, 20],\n",
       "              mask=[False, False, False, False, False, False, False, False,\n",
       "                    False, False, False, False, False, False, False, False,\n",
       "                    False, False, False, False],\n",
       "        fill_value='?',\n",
       "             dtype=object),\n",
       " 'param_subsample': masked_array(data=[0.6596925436808334, 0.6706172348594128,\n",
       "                    0.9046980133207362, 0.6053377167309303,\n",
       "                    0.8880253233625549, 0.7833162494403645,\n",
       "                    0.8625565470286991, 0.8767316878147531,\n",
       "                    0.9862625626934968, 0.9573088349753339,\n",
       "                    0.8886923659436168, 0.6488834709955921,\n",
       "                    0.6416698184403, 0.8670410587574509,\n",
       "                    0.6796584473051541, 0.7565247731020215,\n",
       "                    0.9554239504793323, 0.6065780395509012,\n",
       "                    0.7175642696579785, 0.8532184122694872],\n",
       "              mask=[False, False, False, False, False, False, False, False,\n",
       "                    False, False, False, False, False, False, False, False,\n",
       "                    False, False, False, False],\n",
       "        fill_value='?',\n",
       "             dtype=object),\n",
       " 'params': [{'criterion': 'mae',\n",
       "   'learning_rate': 0.1,\n",
       "   'max_depth': 3,\n",
       "   'max_features': 2,\n",
       "   'n_estimators': 5,\n",
       "   'subsample': 0.6596925436808334},\n",
       "  {'criterion': 'mae',\n",
       "   'learning_rate': 0.1,\n",
       "   'max_depth': 5,\n",
       "   'max_features': 1,\n",
       "   'n_estimators': 100,\n",
       "   'subsample': 0.6706172348594128},\n",
       "  {'criterion': 'friedman_mse',\n",
       "   'learning_rate': 0.5,\n",
       "   'max_depth': 1,\n",
       "   'max_features': 1,\n",
       "   'n_estimators': 100,\n",
       "   'subsample': 0.9046980133207362},\n",
       "  {'criterion': 'friedman_mse',\n",
       "   'learning_rate': 0.1,\n",
       "   'max_depth': 3,\n",
       "   'max_features': 2,\n",
       "   'n_estimators': 5,\n",
       "   'subsample': 0.6053377167309303},\n",
       "  {'criterion': 'mse',\n",
       "   'learning_rate': 0.5,\n",
       "   'max_depth': 7,\n",
       "   'max_features': 1,\n",
       "   'n_estimators': 5,\n",
       "   'subsample': 0.8880253233625549},\n",
       "  {'criterion': 'mae',\n",
       "   'learning_rate': 0.01,\n",
       "   'max_depth': 7,\n",
       "   'max_features': 1,\n",
       "   'n_estimators': 100,\n",
       "   'subsample': 0.7833162494403645},\n",
       "  {'criterion': 'mae',\n",
       "   'learning_rate': 0.5,\n",
       "   'max_depth': 1,\n",
       "   'max_features': 1,\n",
       "   'n_estimators': 20,\n",
       "   'subsample': 0.8625565470286991},\n",
       "  {'criterion': 'friedman_mse',\n",
       "   'learning_rate': 0.5,\n",
       "   'max_depth': 1,\n",
       "   'max_features': 1,\n",
       "   'n_estimators': 100,\n",
       "   'subsample': 0.8767316878147531},\n",
       "  {'criterion': 'friedman_mse',\n",
       "   'learning_rate': 0.01,\n",
       "   'max_depth': 7,\n",
       "   'max_features': 2,\n",
       "   'n_estimators': 100,\n",
       "   'subsample': 0.9862625626934968},\n",
       "  {'criterion': 'mse',\n",
       "   'learning_rate': 0.5,\n",
       "   'max_depth': 3,\n",
       "   'max_features': 1,\n",
       "   'n_estimators': 5,\n",
       "   'subsample': 0.9573088349753339},\n",
       "  {'criterion': 'mse',\n",
       "   'learning_rate': 0.1,\n",
       "   'max_depth': 3,\n",
       "   'max_features': 1,\n",
       "   'n_estimators': 5,\n",
       "   'subsample': 0.8886923659436168},\n",
       "  {'criterion': 'friedman_mse',\n",
       "   'learning_rate': 0.1,\n",
       "   'max_depth': 1,\n",
       "   'max_features': 1,\n",
       "   'n_estimators': 5,\n",
       "   'subsample': 0.6488834709955921},\n",
       "  {'criterion': 'mae',\n",
       "   'learning_rate': 0.1,\n",
       "   'max_depth': 7,\n",
       "   'max_features': 1,\n",
       "   'n_estimators': 100,\n",
       "   'subsample': 0.6416698184403},\n",
       "  {'criterion': 'mse',\n",
       "   'learning_rate': 0.01,\n",
       "   'max_depth': 3,\n",
       "   'max_features': 1,\n",
       "   'n_estimators': 100,\n",
       "   'subsample': 0.8670410587574509},\n",
       "  {'criterion': 'friedman_mse',\n",
       "   'learning_rate': 0.1,\n",
       "   'max_depth': 3,\n",
       "   'max_features': 1,\n",
       "   'n_estimators': 5,\n",
       "   'subsample': 0.6796584473051541},\n",
       "  {'criterion': 'mse',\n",
       "   'learning_rate': 0.1,\n",
       "   'max_depth': 1,\n",
       "   'max_features': 1,\n",
       "   'n_estimators': 20,\n",
       "   'subsample': 0.7565247731020215},\n",
       "  {'criterion': 'mae',\n",
       "   'learning_rate': 0.1,\n",
       "   'max_depth': 7,\n",
       "   'max_features': 1,\n",
       "   'n_estimators': 100,\n",
       "   'subsample': 0.9554239504793323},\n",
       "  {'criterion': 'mae',\n",
       "   'learning_rate': 0.5,\n",
       "   'max_depth': 1,\n",
       "   'max_features': 1,\n",
       "   'n_estimators': 5,\n",
       "   'subsample': 0.6065780395509012},\n",
       "  {'criterion': 'mae',\n",
       "   'learning_rate': 0.01,\n",
       "   'max_depth': 3,\n",
       "   'max_features': 2,\n",
       "   'n_estimators': 5,\n",
       "   'subsample': 0.7175642696579785},\n",
       "  {'criterion': 'mae',\n",
       "   'learning_rate': 0.1,\n",
       "   'max_depth': 5,\n",
       "   'max_features': 2,\n",
       "   'n_estimators': 20,\n",
       "   'subsample': 0.8532184122694872}],\n",
       " 'split0_test_score': array([0.8875 , 1.     , 1.     , 1.     , 1.     , 1.     , 0.8875 ,\n",
       "        1.     , 1.     , 0.96875, 0.9875 , 0.88125, 1.     , 0.99375,\n",
       "        1.     , 0.89375, 1.     , 0.88125, 0.89375, 0.9375 ]),\n",
       " 'split1_test_score': array([0.9125 , 1.     , 0.98125, 0.89375, 0.9875 , 0.99375, 0.8625 ,\n",
       "        0.98125, 0.9875 , 0.8875 , 0.8875 , 0.88125, 1.     , 0.98125,\n",
       "        0.98125, 0.90625, 0.9875 , 0.8375 , 0.88125, 1.     ]),\n",
       " 'split2_test_score': array([0.90625, 1.     , 1.     , 0.96875, 1.     , 1.     , 0.9    ,\n",
       "        1.     , 1.     , 1.     , 1.     , 0.8875 , 1.     , 1.     ,\n",
       "        0.9875 , 0.9    , 1.     , 0.90625, 0.9    , 0.99375]),\n",
       " 'split3_test_score': array([0.96875, 1.     , 1.     , 0.9125 , 0.9875 , 1.     , 0.9125 ,\n",
       "        1.     , 0.9875 , 0.9875 , 0.99375, 0.9    , 1.     , 0.9875 ,\n",
       "        0.98125, 0.91875, 1.     , 0.9    , 0.91875, 1.     ]),\n",
       " 'split4_test_score': array([0.9375 , 1.     , 1.     , 0.96875, 1.     , 1.     , 0.93125,\n",
       "        1.     , 1.     , 1.     , 0.925  , 0.94375, 1.     , 1.     ,\n",
       "        1.     , 0.91875, 1.     , 0.95625, 0.94375, 0.94375]),\n",
       " 'mean_test_score': array([0.9225 , 1.     , 0.99625, 0.94875, 0.995  , 0.99875, 0.89875,\n",
       "        0.99625, 0.995  , 0.96875, 0.95875, 0.89875, 1.     , 0.9925 ,\n",
       "        0.99   , 0.9075 , 0.9975 , 0.89625, 0.9075 , 0.975  ]),\n",
       " 'std_test_score': array([0.02811805, 0.        , 0.0075    , 0.03940971, 0.00612372,\n",
       "        0.0025    , 0.02318405, 0.0075    , 0.00612372, 0.04220486,\n",
       "        0.04465143, 0.02351861, 0.        , 0.00728869, 0.00847791,\n",
       "        0.01      , 0.005     , 0.03844639, 0.02179449, 0.02822897]),\n",
       " 'rank_test_score': array([15,  1,  5, 14,  7,  3, 18,  5,  7, 12, 13, 18,  1,  9, 10, 16,  4,\n",
       "        20, 16, 11], dtype=int32)}"
      ]
     },
     "execution_count": 5,
     "metadata": {},
     "output_type": "execute_result"
    }
   ],
   "source": [
    "rand.cv_results_"
   ]
  },
  {
   "cell_type": "code",
   "execution_count": 6,
   "metadata": {},
   "outputs": [
    {
     "data": {
      "image/png": "[encoded data removed]",
      "text/plain": [
       "<Figure size 288x216 with 1 Axes>"
      ]
     },
     "metadata": {
      "needs_background": "light"
     },
     "output_type": "display_data"
    }
   ],
   "source": [
    "plot_decision_boundary(grid.best_estimator_, X, y)"
   ]
  },
  {
   "cell_type": "code",
   "execution_count": 7,
   "metadata": {},
   "outputs": [
    {
     "data": {
      "image/png": "[encoded data removed]",
      "text/plain": [
       "<Figure size 288x216 with 1 Axes>"
      ]
     },
     "metadata": {
      "needs_background": "light"
     },
     "output_type": "display_data"
    }
   ],
   "source": [
    "plot_decision_boundary(rand.best_estimator_, X, y)"
   ]
  },
  {
   "cell_type": "code",
   "execution_count": null,
   "metadata": {},
   "outputs": [],
   "source": []
  }
 ],
 "metadata": {
  "@webio": {
   "lastCommId": null,
   "lastKernelId": null
  },
  "kernelspec": {
   "display_name": "Python 3",
   "language": "python",
   "name": "python3"
  },
  "language_info": {
   "codemirror_mode": {
    "name": "ipython",
    "version": 3
   },
   "file_extension": ".py",
   "mimetype": "text/x-python",
   "name": "python",
   "nbconvert_exporter": "python",
   "pygments_lexer": "ipython3",
   "version": "3.7.6"
  }
 },
 "nbformat": 4,
 "nbformat_minor": 2
}
